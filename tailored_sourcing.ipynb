{
 "cells": [
  {
   "cell_type": "code",
   "execution_count": 5,
   "metadata": {},
   "outputs": [],
   "source": [
    "import math\n",
    "import itertools\n",
    "\n",
    "products = {\n",
    "    1: {'D': 1000, 'common': 150, 'specific': 20, 'c': 50, 'h': 0.15},\n",
    "    2: {'D': 300,  'common': 150, 'specific': 25, 'c': 60, 'h': 0.15},\n",
    "    3: {'D': 100,  'common': 150, 'specific': 30, 'c': 30, 'h': 0.15},\n",
    "    4: {'D': 50,   'common': 150, 'specific': 50, 'c': 30, 'h': 0.15},\n",
    "}\n",
    "\n",
    "def K_of(S):\n",
    "    \"\"\"Compute K(S) = max(common_i for i in S) + sum(specific_i for i in S).\"\"\"\n",
    "    max_common = max(products[i]['common'] for i in S)\n",
    "    sum_specific = sum(products[i]['specific'] for i in S)\n",
    "    return max_common + sum_specific\n",
    "\n",
    "def A_of(S):\n",
    "    \"\"\"Compute A(S) = sum(D_i * h * c_i for i in S).\"\"\"\n",
    "    return sum(products[i]['D'] * products[i]['h'] * products[i]['c'] for i in S)\n",
    "\n",
    "def cost_of_group(S):\n",
    "    \"\"\"Optimal annual cost if group S is ordered on its own cycle.\"\"\"\n",
    "    return math.sqrt(2 * K_of(S) * A_of(S))"
   ]
  },
  {
   "cell_type": "markdown",
   "metadata": {},
   "source": [
    "### Scenario 1: Independent"
   ]
  },
  {
   "cell_type": "code",
   "execution_count": 7,
   "metadata": {},
   "outputs": [
    {
     "name": "stdout",
     "output_type": "stream",
     "text": [
      "Scenario 1: 3271.48\n"
     ]
    }
   ],
   "source": [
    "scenario1_cost = sum(cost_of_group({i}) for i in products)\n",
    "print(\"Scenario 1:\", round(scenario1_cost, 2))"
   ]
  },
  {
   "cell_type": "markdown",
   "metadata": {},
   "source": [
    "### Scenario 2: All in One Group"
   ]
  },
  {
   "cell_type": "code",
   "execution_count": 8,
   "metadata": {},
   "outputs": [
    {
     "name": "stdout",
     "output_type": "stream",
     "text": [
      "Scenario 2: 2445.66\n"
     ]
    }
   ],
   "source": [
    "all_set = set(products.keys())\n",
    "scenario2_cost = cost_of_group(all_set)\n",
    "print(\"Scenario 2:\", round(scenario2_cost, 2))"
   ]
  },
  {
   "cell_type": "markdown",
   "metadata": {},
   "source": [
    "### Scenario 3: Tailored Aggregation"
   ]
  },
  {
   "cell_type": "code",
   "execution_count": 9,
   "metadata": {},
   "outputs": [
    {
     "name": "stdout",
     "output_type": "stream",
     "text": [
      "Scenario 3: 2445.66\n"
     ]
    }
   ],
   "source": [
    "items = list(products.keys())\n",
    "best_partition_cost = float('inf')\n",
    "\n",
    "for labels in itertools.product(range(len(items)), repeat=len(items)):\n",
    "    # Build groups based on the label assigned\n",
    "    groups_dict = {}\n",
    "    for i, label in zip(items, labels):\n",
    "        groups_dict.setdefault(label, []).append(i)\n",
    "    # Convert to sets, remove any empty\n",
    "    groups = [set(g) for g in groups_dict.values() if g]\n",
    "\n",
    "    # Check if this covers exactly {1,2,3,4}\n",
    "    covered = set()\n",
    "    for g in groups:\n",
    "        covered |= g\n",
    "    if covered == all_set:\n",
    "        # Calculate cost\n",
    "        partition_cost = sum(cost_of_group(g) for g in groups)\n",
    "        if partition_cost < best_partition_cost:\n",
    "            best_partition_cost = partition_cost\n",
    "\n",
    "print(\"Scenario 3:\", round(best_partition_cost, 2))"
   ]
  }
 ],
 "metadata": {
  "kernelspec": {
   "display_name": "Python 3",
   "language": "python",
   "name": "python3"
  },
  "language_info": {
   "codemirror_mode": {
    "name": "ipython",
    "version": 3
   },
   "file_extension": ".py",
   "mimetype": "text/x-python",
   "name": "python",
   "nbconvert_exporter": "python",
   "pygments_lexer": "ipython3",
   "version": "3.10.6"
  }
 },
 "nbformat": 4,
 "nbformat_minor": 2
}
